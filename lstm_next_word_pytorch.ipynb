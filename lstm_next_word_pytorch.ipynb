{
  "nbformat": 4,
  "nbformat_minor": 0,
  "metadata": {
    "colab": {
      "provenance": []
    },
    "kernelspec": {
      "name": "python3",
      "display_name": "Python 3"
    },
    "language_info": {
      "name": "python"
    }
  },
  "cells": [
    {
      "cell_type": "code",
      "execution_count": null,
      "metadata": {
        "colab": {
          "base_uri": "https://localhost:8080/"
        },
        "id": "gHWmxw63QIFF",
        "outputId": "c6ed2a46-9789-437e-f78c-fcb5d0dc0b27"
      },
      "outputs": [
        {
          "output_type": "stream",
          "name": "stdout",
          "text": [
            "Requirement already satisfied: nltk in /usr/local/lib/python3.11/dist-packages (3.9.1)\n",
            "Requirement already satisfied: click in /usr/local/lib/python3.11/dist-packages (from nltk) (8.2.1)\n",
            "Requirement already satisfied: joblib in /usr/local/lib/python3.11/dist-packages (from nltk) (1.5.1)\n",
            "Requirement already satisfied: regex>=2021.8.3 in /usr/local/lib/python3.11/dist-packages (from nltk) (2024.11.6)\n",
            "Requirement already satisfied: tqdm in /usr/local/lib/python3.11/dist-packages (from nltk) (4.67.1)\n"
          ]
        }
      ],
      "source": [
        "!pip install nltk"
      ]
    },
    {
      "cell_type": "code",
      "source": [
        "import torch\n",
        "import torch.nn as nn\n",
        "import torch.optim as optim\n",
        "import numpy as np\n",
        "from collections import Counter\n",
        "from torch.utils.data import Dataset, DataLoader\n",
        "from nltk.tokenize import word_tokenize\n",
        "import nltk"
      ],
      "metadata": {
        "id": "WmP6NIdrQM5W"
      },
      "execution_count": null,
      "outputs": []
    },
    {
      "cell_type": "code",
      "source": [
        "document = \"\"\"The townsfolk discern the existence of Sarkata after he abducts Bittu's girlfriend Chitti. The enigmatic woman, who vanished from the bus, briefly reappears to Vicky and cautions him about Sarkata. Vicky, Rudra and Bittu examine the missing pages of 'Chanderi Puran' and discover that Sarkata is the malevolent ghost of Chandrabhan, a former chieftain of Chanderi, who murdered Stree and her partner while their young daughter spectated helplessly. He was murdered by Stree but was destined to emerge from the dead after her supposed exit from the town; he despises progressive women and targets them. Realizing that they need Stree's assistance in defeating him, Vicky and Bittu meet with Jana, who was once a medium for Stree, at his werewolf cousin Bhaskar's residence and convince him to return home for a \"stage play\".\n",
        "\n",
        "They search for Stree at her lair, where Sarkata attacks Jana and the latter briefly has an out-of-body experience; his soul visits Sarkata's lair, where he finds the missing woman. His soul returns to his body and the group leaves the fort with Sarkata in pursuit. The woman shows up again and fights Sarkata, having acquired Stree's powers through her braid but he destroys Stree's statue to indicate his authority. Women of the town fear getting abducted and urge Vicky to find a solution; The woman motivates Vicky and reminds him that he is the saviour of the town. She gives him a mystical dagger that is capable of killing Sarkata. To lure Sarkata, they arrange for a dance performance by Rudra's beautiful lover Shama. Sarkata appears to abduct her but Vicky fails to muster the courage to kill him; he subsequently enchants the men of the town and abducts Shama, devastating Rudra. Elsewhere, the bewitched men turn chauvinistic and begin to dominate women in their homes.\n",
        "\n",
        "Desperate to rescue the town, the group traces the writer of the letter to a mental asylum, where they realize that he is the descendant of Sarkata. He reveals that Sarkata could only be defeated by a person, who is neither a man nor a woman but both. The woman merges her soul with Vicky for the time being and they enter Sarkata's lair. They confront Sarkata and sever his head but each dismembered part forms a new Sarkata and creates terror. Bhaskar comes to their rescue but they are still overwhelmed by Sarkata. Having no choice, the woman calls for Stree, who is revealed to be her mother. Stree arrives and presumably kills him by dragging Sarkata into lava, releasing the abducted women and disenchanting the men of Chanderi. While the townsfolk celebrate, the woman reveals herself to be a ghost to Vicky and that her true purpose is to help her mother attain salvation. She finally whispers her name in Vicky's ears and promises to meet again.\n",
        "\n",
        "In a post-credits scene, after his fight with Sarkata, Bhaskar finds himself stranded naked in a jungle. Jana brings him clothes and learns from Bhaskar that a creature, apparently a vampire, has been wreaking havoc in Delhi. Elsewhere, the remains of Sarkata reach his descendant at the mental asylum and his ghost possesses him, implying his return.\n",
        "\"\"\"\n"
      ],
      "metadata": {
        "id": "SukT7IRMQSlh"
      },
      "execution_count": null,
      "outputs": []
    },
    {
      "cell_type": "code",
      "source": [
        "# Tokenization\n",
        "nltk.download('punkt')\n",
        "nltk.download('punkt_tab')"
      ],
      "metadata": {
        "colab": {
          "base_uri": "https://localhost:8080/"
        },
        "id": "bDgeP4wyQWpT",
        "outputId": "66f501fc-ef68-4e53-8c50-295ca7c4238d"
      },
      "execution_count": null,
      "outputs": [
        {
          "output_type": "stream",
          "name": "stderr",
          "text": [
            "[nltk_data] Downloading package punkt to /root/nltk_data...\n",
            "[nltk_data]   Unzipping tokenizers/punkt.zip.\n",
            "[nltk_data] Downloading package punkt_tab to /root/nltk_data...\n",
            "[nltk_data]   Unzipping tokenizers/punkt_tab.zip.\n"
          ]
        },
        {
          "output_type": "execute_result",
          "data": {
            "text/plain": [
              "True"
            ]
          },
          "metadata": {},
          "execution_count": 5
        }
      ]
    },
    {
      "cell_type": "code",
      "source": [
        "# tokenize\n",
        "tokens = word_tokenize(document.lower())"
      ],
      "metadata": {
        "id": "mtMA3-6MQY66"
      },
      "execution_count": null,
      "outputs": []
    },
    {
      "cell_type": "code",
      "source": [
        "# build vocab\n",
        "vocab = {'<unk>':0}\n",
        "\n",
        "for token in Counter(tokens).keys():\n",
        "  if token not in vocab:\n",
        "    vocab[token] = len(vocab)\n",
        "\n",
        "vocab"
      ],
      "metadata": {
        "colab": {
          "base_uri": "https://localhost:8080/"
        },
        "id": "O5Efvue6Qax7",
        "outputId": "eda3fec7-5c14-41e8-bae6-c369e7c92344"
      },
      "execution_count": null,
      "outputs": [
        {
          "output_type": "execute_result",
          "data": {
            "text/plain": [
              "{'<unk>': 0,\n",
              " 'the': 1,\n",
              " 'townsfolk': 2,\n",
              " 'discern': 3,\n",
              " 'existence': 4,\n",
              " 'of': 5,\n",
              " 'sarkata': 6,\n",
              " 'after': 7,\n",
              " 'he': 8,\n",
              " 'abducts': 9,\n",
              " 'bittu': 10,\n",
              " \"'s\": 11,\n",
              " 'girlfriend': 12,\n",
              " 'chitti': 13,\n",
              " '.': 14,\n",
              " 'enigmatic': 15,\n",
              " 'woman': 16,\n",
              " ',': 17,\n",
              " 'who': 18,\n",
              " 'vanished': 19,\n",
              " 'from': 20,\n",
              " 'bus': 21,\n",
              " 'briefly': 22,\n",
              " 'reappears': 23,\n",
              " 'to': 24,\n",
              " 'vicky': 25,\n",
              " 'and': 26,\n",
              " 'cautions': 27,\n",
              " 'him': 28,\n",
              " 'about': 29,\n",
              " 'rudra': 30,\n",
              " 'examine': 31,\n",
              " 'missing': 32,\n",
              " 'pages': 33,\n",
              " \"'chanderi\": 34,\n",
              " 'puran': 35,\n",
              " \"'\": 36,\n",
              " 'discover': 37,\n",
              " 'that': 38,\n",
              " 'is': 39,\n",
              " 'malevolent': 40,\n",
              " 'ghost': 41,\n",
              " 'chandrabhan': 42,\n",
              " 'a': 43,\n",
              " 'former': 44,\n",
              " 'chieftain': 45,\n",
              " 'chanderi': 46,\n",
              " 'murdered': 47,\n",
              " 'stree': 48,\n",
              " 'her': 49,\n",
              " 'partner': 50,\n",
              " 'while': 51,\n",
              " 'their': 52,\n",
              " 'young': 53,\n",
              " 'daughter': 54,\n",
              " 'spectated': 55,\n",
              " 'helplessly': 56,\n",
              " 'was': 57,\n",
              " 'by': 58,\n",
              " 'but': 59,\n",
              " 'destined': 60,\n",
              " 'emerge': 61,\n",
              " 'dead': 62,\n",
              " 'supposed': 63,\n",
              " 'exit': 64,\n",
              " 'town': 65,\n",
              " ';': 66,\n",
              " 'despises': 67,\n",
              " 'progressive': 68,\n",
              " 'women': 69,\n",
              " 'targets': 70,\n",
              " 'them': 71,\n",
              " 'realizing': 72,\n",
              " 'they': 73,\n",
              " 'need': 74,\n",
              " 'assistance': 75,\n",
              " 'in': 76,\n",
              " 'defeating': 77,\n",
              " 'meet': 78,\n",
              " 'with': 79,\n",
              " 'jana': 80,\n",
              " 'once': 81,\n",
              " 'medium': 82,\n",
              " 'for': 83,\n",
              " 'at': 84,\n",
              " 'his': 85,\n",
              " 'werewolf': 86,\n",
              " 'cousin': 87,\n",
              " 'bhaskar': 88,\n",
              " 'residence': 89,\n",
              " 'convince': 90,\n",
              " 'return': 91,\n",
              " 'home': 92,\n",
              " '``': 93,\n",
              " 'stage': 94,\n",
              " 'play': 95,\n",
              " \"''\": 96,\n",
              " 'search': 97,\n",
              " 'lair': 98,\n",
              " 'where': 99,\n",
              " 'attacks': 100,\n",
              " 'latter': 101,\n",
              " 'has': 102,\n",
              " 'an': 103,\n",
              " 'out-of-body': 104,\n",
              " 'experience': 105,\n",
              " 'soul': 106,\n",
              " 'visits': 107,\n",
              " 'finds': 108,\n",
              " 'returns': 109,\n",
              " 'body': 110,\n",
              " 'group': 111,\n",
              " 'leaves': 112,\n",
              " 'fort': 113,\n",
              " 'pursuit': 114,\n",
              " 'shows': 115,\n",
              " 'up': 116,\n",
              " 'again': 117,\n",
              " 'fights': 118,\n",
              " 'having': 119,\n",
              " 'acquired': 120,\n",
              " 'powers': 121,\n",
              " 'through': 122,\n",
              " 'braid': 123,\n",
              " 'destroys': 124,\n",
              " 'statue': 125,\n",
              " 'indicate': 126,\n",
              " 'authority': 127,\n",
              " 'fear': 128,\n",
              " 'getting': 129,\n",
              " 'abducted': 130,\n",
              " 'urge': 131,\n",
              " 'find': 132,\n",
              " 'solution': 133,\n",
              " 'motivates': 134,\n",
              " 'reminds': 135,\n",
              " 'saviour': 136,\n",
              " 'she': 137,\n",
              " 'gives': 138,\n",
              " 'mystical': 139,\n",
              " 'dagger': 140,\n",
              " 'capable': 141,\n",
              " 'killing': 142,\n",
              " 'lure': 143,\n",
              " 'arrange': 144,\n",
              " 'dance': 145,\n",
              " 'performance': 146,\n",
              " 'beautiful': 147,\n",
              " 'lover': 148,\n",
              " 'shama': 149,\n",
              " 'appears': 150,\n",
              " 'abduct': 151,\n",
              " 'fails': 152,\n",
              " 'muster': 153,\n",
              " 'courage': 154,\n",
              " 'kill': 155,\n",
              " 'subsequently': 156,\n",
              " 'enchants': 157,\n",
              " 'men': 158,\n",
              " 'devastating': 159,\n",
              " 'elsewhere': 160,\n",
              " 'bewitched': 161,\n",
              " 'turn': 162,\n",
              " 'chauvinistic': 163,\n",
              " 'begin': 164,\n",
              " 'dominate': 165,\n",
              " 'homes': 166,\n",
              " 'desperate': 167,\n",
              " 'rescue': 168,\n",
              " 'traces': 169,\n",
              " 'writer': 170,\n",
              " 'letter': 171,\n",
              " 'mental': 172,\n",
              " 'asylum': 173,\n",
              " 'realize': 174,\n",
              " 'descendant': 175,\n",
              " 'reveals': 176,\n",
              " 'could': 177,\n",
              " 'only': 178,\n",
              " 'be': 179,\n",
              " 'defeated': 180,\n",
              " 'person': 181,\n",
              " 'neither': 182,\n",
              " 'man': 183,\n",
              " 'nor': 184,\n",
              " 'both': 185,\n",
              " 'merges': 186,\n",
              " 'time': 187,\n",
              " 'being': 188,\n",
              " 'enter': 189,\n",
              " 'confront': 190,\n",
              " 'sever': 191,\n",
              " 'head': 192,\n",
              " 'each': 193,\n",
              " 'dismembered': 194,\n",
              " 'part': 195,\n",
              " 'forms': 196,\n",
              " 'new': 197,\n",
              " 'creates': 198,\n",
              " 'terror': 199,\n",
              " 'comes': 200,\n",
              " 'are': 201,\n",
              " 'still': 202,\n",
              " 'overwhelmed': 203,\n",
              " 'no': 204,\n",
              " 'choice': 205,\n",
              " 'calls': 206,\n",
              " 'revealed': 207,\n",
              " 'mother': 208,\n",
              " 'arrives': 209,\n",
              " 'presumably': 210,\n",
              " 'kills': 211,\n",
              " 'dragging': 212,\n",
              " 'into': 213,\n",
              " 'lava': 214,\n",
              " 'releasing': 215,\n",
              " 'disenchanting': 216,\n",
              " 'celebrate': 217,\n",
              " 'herself': 218,\n",
              " 'true': 219,\n",
              " 'purpose': 220,\n",
              " 'help': 221,\n",
              " 'attain': 222,\n",
              " 'salvation': 223,\n",
              " 'finally': 224,\n",
              " 'whispers': 225,\n",
              " 'name': 226,\n",
              " 'ears': 227,\n",
              " 'promises': 228,\n",
              " 'post-credits': 229,\n",
              " 'scene': 230,\n",
              " 'fight': 231,\n",
              " 'himself': 232,\n",
              " 'stranded': 233,\n",
              " 'naked': 234,\n",
              " 'jungle': 235,\n",
              " 'brings': 236,\n",
              " 'clothes': 237,\n",
              " 'learns': 238,\n",
              " 'creature': 239,\n",
              " 'apparently': 240,\n",
              " 'vampire': 241,\n",
              " 'been': 242,\n",
              " 'wreaking': 243,\n",
              " 'havoc': 244,\n",
              " 'delhi': 245,\n",
              " 'remains': 246,\n",
              " 'reach': 247,\n",
              " 'possesses': 248,\n",
              " 'implying': 249}"
            ]
          },
          "metadata": {},
          "execution_count": 7
        }
      ]
    },
    {
      "cell_type": "code",
      "source": [
        "len(vocab)"
      ],
      "metadata": {
        "colab": {
          "base_uri": "https://localhost:8080/"
        },
        "id": "sTB8GhYGQc2c",
        "outputId": "ac38d37e-a486-46ee-b772-4612e22599ed"
      },
      "execution_count": null,
      "outputs": [
        {
          "output_type": "execute_result",
          "data": {
            "text/plain": [
              "250"
            ]
          },
          "metadata": {},
          "execution_count": 8
        }
      ]
    },
    {
      "cell_type": "code",
      "source": [
        "input_sentences = document.split('\\n')"
      ],
      "metadata": {
        "id": "JmqWiOJwQgwr"
      },
      "execution_count": null,
      "outputs": []
    },
    {
      "cell_type": "code",
      "source": [
        "def text_to_indices(sentence, vocab):\n",
        "\n",
        "  numerical_sentence = []\n",
        "\n",
        "  for token in sentence:\n",
        "    if token in vocab:\n",
        "      numerical_sentence.append(vocab[token])\n",
        "    else:\n",
        "      numerical_sentence.append(vocab['<unk>'])\n",
        "\n",
        "  return numerical_sentence\n"
      ],
      "metadata": {
        "id": "SS_4QsteQipp"
      },
      "execution_count": null,
      "outputs": []
    },
    {
      "cell_type": "code",
      "source": [
        "input_numerical_sentences = []\n",
        "\n",
        "for sentence in input_sentences:\n",
        "  input_numerical_sentences.append(text_to_indices(word_tokenize(sentence.lower()), vocab))"
      ],
      "metadata": {
        "id": "gURj3uKeQkV9"
      },
      "execution_count": null,
      "outputs": []
    },
    {
      "cell_type": "code",
      "source": [
        "len(input_numerical_sentences)"
      ],
      "metadata": {
        "colab": {
          "base_uri": "https://localhost:8080/"
        },
        "id": "ZkXhjXHzQmgK",
        "outputId": "5c93c16b-169d-44f1-9fd1-dc35cd83d8eb"
      },
      "execution_count": null,
      "outputs": [
        {
          "output_type": "execute_result",
          "data": {
            "text/plain": [
              "8"
            ]
          },
          "metadata": {},
          "execution_count": 12
        }
      ]
    },
    {
      "cell_type": "code",
      "source": [
        "training_sequence = []\n",
        "for sentence in input_numerical_sentences:\n",
        "\n",
        "  for i in range(1, len(sentence)):\n",
        "    training_sequence.append(sentence[:i+1])"
      ],
      "metadata": {
        "id": "ad_3g39IQoS4"
      },
      "execution_count": null,
      "outputs": []
    },
    {
      "cell_type": "code",
      "source": [
        "len(training_sequence)"
      ],
      "metadata": {
        "colab": {
          "base_uri": "https://localhost:8080/"
        },
        "id": "-iGjxqxiQrbJ",
        "outputId": "8b3104a6-a88c-4625-cd38-109d14c52983"
      },
      "execution_count": null,
      "outputs": [
        {
          "output_type": "execute_result",
          "data": {
            "text/plain": [
              "590"
            ]
          },
          "metadata": {},
          "execution_count": 14
        }
      ]
    },
    {
      "cell_type": "code",
      "source": [
        "training_sequence[:5]"
      ],
      "metadata": {
        "colab": {
          "base_uri": "https://localhost:8080/"
        },
        "id": "Cx4bIIGvQ_Zq",
        "outputId": "35255e32-f233-41fb-94e5-950d41aade88"
      },
      "execution_count": null,
      "outputs": [
        {
          "output_type": "execute_result",
          "data": {
            "text/plain": [
              "[[1, 2], [1, 2, 3], [1, 2, 3, 1], [1, 2, 3, 1, 4], [1, 2, 3, 1, 4, 5]]"
            ]
          },
          "metadata": {},
          "execution_count": 15
        }
      ]
    },
    {
      "cell_type": "code",
      "source": [
        "len_list = []\n",
        "\n",
        "for sequence in training_sequence:\n",
        "  len_list.append(len(sequence))\n",
        "\n",
        "max(len_list)"
      ],
      "metadata": {
        "colab": {
          "base_uri": "https://localhost:8080/"
        },
        "id": "pJjFcrjKRBQZ",
        "outputId": "e4e963b1-7ee1-4631-9385-b185009422e0"
      },
      "execution_count": null,
      "outputs": [
        {
          "output_type": "execute_result",
          "data": {
            "text/plain": [
              "188"
            ]
          },
          "metadata": {},
          "execution_count": 16
        }
      ]
    },
    {
      "cell_type": "code",
      "source": [
        "training_sequence[0]"
      ],
      "metadata": {
        "colab": {
          "base_uri": "https://localhost:8080/"
        },
        "id": "xB1JsUnkRDqe",
        "outputId": "020a540e-d4ba-47b2-9a9b-ab29637f8ece"
      },
      "execution_count": null,
      "outputs": [
        {
          "output_type": "execute_result",
          "data": {
            "text/plain": [
              "[1, 2]"
            ]
          },
          "metadata": {},
          "execution_count": 17
        }
      ]
    },
    {
      "cell_type": "code",
      "source": [
        "padded_training_sequence = []\n",
        "for sequence in training_sequence:\n",
        "\n",
        "  padded_training_sequence.append([0]*(max(len_list) - len(sequence)) + sequence)"
      ],
      "metadata": {
        "id": "2gsxRvf3RFuP"
      },
      "execution_count": null,
      "outputs": []
    },
    {
      "cell_type": "code",
      "source": [
        "len(padded_training_sequence[10])"
      ],
      "metadata": {
        "colab": {
          "base_uri": "https://localhost:8080/"
        },
        "id": "XrD6vlVZRH2F",
        "outputId": "391db383-494e-415f-cee9-1afae7e3912f"
      },
      "execution_count": null,
      "outputs": [
        {
          "output_type": "execute_result",
          "data": {
            "text/plain": [
              "188"
            ]
          },
          "metadata": {},
          "execution_count": 19
        }
      ]
    },
    {
      "cell_type": "code",
      "source": [
        "padded_training_sequence = torch.tensor(padded_training_sequence, dtype=torch.long)"
      ],
      "metadata": {
        "id": "hmdDnXFQRJjf"
      },
      "execution_count": null,
      "outputs": []
    },
    {
      "cell_type": "code",
      "source": [
        "padded_training_sequence"
      ],
      "metadata": {
        "colab": {
          "base_uri": "https://localhost:8080/"
        },
        "id": "0Ygw_WWMRLVk",
        "outputId": "0b162be9-849d-49c8-8b3d-6bb5e47b36a6"
      },
      "execution_count": null,
      "outputs": [
        {
          "output_type": "execute_result",
          "data": {
            "text/plain": [
              "tensor([[  0,   0,   0,  ...,   0,   1,   2],\n",
              "        [  0,   0,   0,  ...,   1,   2,   3],\n",
              "        [  0,   0,   0,  ...,   2,   3,   1],\n",
              "        ...,\n",
              "        [  0,   0,   0,  ...,  17, 249,  85],\n",
              "        [  0,   0,   0,  ..., 249,  85,  91],\n",
              "        [  0,   0,   0,  ...,  85,  91,  14]])"
            ]
          },
          "metadata": {},
          "execution_count": 21
        }
      ]
    },
    {
      "cell_type": "code",
      "source": [
        "X = padded_training_sequence[:, :-1]\n",
        "y = padded_training_sequence[:,-1]"
      ],
      "metadata": {
        "id": "BmMXt-vMRM1c"
      },
      "execution_count": null,
      "outputs": []
    },
    {
      "cell_type": "code",
      "source": [
        "class CustomDataset(Dataset):\n",
        "\n",
        "  def __init__(self, X, y):\n",
        "    self.X = X\n",
        "    self.y = y\n",
        "\n",
        "  def __len__(self):\n",
        "    return self.X.shape[0]\n",
        "\n",
        "  def __getitem__(self, idx):\n",
        "    return self.X[idx], self.y[idx]"
      ],
      "metadata": {
        "id": "i1pBYNvLROp8"
      },
      "execution_count": null,
      "outputs": []
    },
    {
      "cell_type": "code",
      "source": [
        "dataset = CustomDataset(X,y)"
      ],
      "metadata": {
        "id": "pHiv7E0PRRYE"
      },
      "execution_count": null,
      "outputs": []
    },
    {
      "cell_type": "code",
      "source": [
        "len(dataset)\n"
      ],
      "metadata": {
        "colab": {
          "base_uri": "https://localhost:8080/"
        },
        "id": "H01CvttZRTSS",
        "outputId": "d450966a-53d4-4cdd-a23d-ee931ed84762"
      },
      "execution_count": null,
      "outputs": [
        {
          "output_type": "execute_result",
          "data": {
            "text/plain": [
              "590"
            ]
          },
          "metadata": {},
          "execution_count": 25
        }
      ]
    },
    {
      "cell_type": "code",
      "source": [
        "dataloader = DataLoader(dataset, batch_size=32, shuffle=True)"
      ],
      "metadata": {
        "id": "GYxvthCDRVQW"
      },
      "execution_count": null,
      "outputs": []
    },
    {
      "cell_type": "code",
      "source": [
        "class LSTMModel(nn.Module):\n",
        "\n",
        "  def __init__(self, vocab_size):\n",
        "    super().__init__()\n",
        "    self.embedding = nn.Embedding(vocab_size, 100)\n",
        "    self.lstm = nn.LSTM(100, 150, batch_first=True)\n",
        "    self.fc = nn.Linear(150, vocab_size)\n",
        "\n",
        "  def forward(self, x):\n",
        "    embedded = self.embedding(x)\n",
        "    intermediate_hidden_states, (final_hidden_state, final_cell_state) = self.lstm(embedded)\n",
        "    output = self.fc(final_hidden_state.squeeze(0))\n",
        "    return output"
      ],
      "metadata": {
        "id": "X3ji8ygIRXZa"
      },
      "execution_count": null,
      "outputs": []
    },
    {
      "cell_type": "code",
      "source": [
        "model = LSTMModel(len(vocab))"
      ],
      "metadata": {
        "id": "6ick5LUaRZc5"
      },
      "execution_count": null,
      "outputs": []
    },
    {
      "cell_type": "code",
      "source": [
        "device = torch.device(\"cuda\" if torch.cuda.is_available() else \"cpu\")"
      ],
      "metadata": {
        "id": "dB_lR1N-RcLQ"
      },
      "execution_count": null,
      "outputs": []
    },
    {
      "cell_type": "code",
      "source": [
        "model.to(device)"
      ],
      "metadata": {
        "colab": {
          "base_uri": "https://localhost:8080/"
        },
        "id": "dV-h395BRebD",
        "outputId": "da68bfdc-279a-43b9-a011-bb38c01d655c"
      },
      "execution_count": null,
      "outputs": [
        {
          "output_type": "execute_result",
          "data": {
            "text/plain": [
              "LSTMModel(\n",
              "  (embedding): Embedding(250, 100)\n",
              "  (lstm): LSTM(100, 150, batch_first=True)\n",
              "  (fc): Linear(in_features=150, out_features=250, bias=True)\n",
              ")"
            ]
          },
          "metadata": {},
          "execution_count": 30
        }
      ]
    },
    {
      "cell_type": "code",
      "source": [
        "epochs = 50\n",
        "learning_rate = 0.001\n",
        "\n",
        "criterion = nn.CrossEntropyLoss()\n",
        "\n",
        "optimizer = torch.optim.Adam(model.parameters(), lr=learning_rate)"
      ],
      "metadata": {
        "id": "1DCAAVR_Rg19"
      },
      "execution_count": null,
      "outputs": []
    },
    {
      "cell_type": "code",
      "source": [
        "# training loop\n",
        "\n",
        "for epoch in range(epochs):\n",
        "  total_loss = 0\n",
        "\n",
        "  for batch_x, batch_y in dataloader:\n",
        "\n",
        "    batch_x, batch_y = batch_x.to(device), batch_y.to(device)\n",
        "\n",
        "    optimizer.zero_grad()\n",
        "\n",
        "    output = model(batch_x)\n",
        "\n",
        "    loss = criterion(output, batch_y)\n",
        "\n",
        "    loss.backward()\n",
        "\n",
        "    optimizer.step()\n",
        "\n",
        "    total_loss = total_loss + loss.item()\n",
        "\n",
        "  print(f\"Epoch: {epoch + 1}, Loss: {total_loss:.4f}\")"
      ],
      "metadata": {
        "colab": {
          "base_uri": "https://localhost:8080/"
        },
        "id": "ZiPUZ4gfRjPX",
        "outputId": "4d709473-7ed1-4084-cdff-a43ccaf91493"
      },
      "execution_count": null,
      "outputs": [
        {
          "output_type": "stream",
          "name": "stdout",
          "text": [
            "Epoch: 1, Loss: 104.4522\n",
            "Epoch: 2, Loss: 98.6987\n",
            "Epoch: 3, Loss: 90.0627\n",
            "Epoch: 4, Loss: 85.3738\n",
            "Epoch: 5, Loss: 79.9599\n",
            "Epoch: 6, Loss: 74.0897\n",
            "Epoch: 7, Loss: 67.7216\n",
            "Epoch: 8, Loss: 61.9245\n",
            "Epoch: 9, Loss: 56.1294\n",
            "Epoch: 10, Loss: 50.7312\n",
            "Epoch: 11, Loss: 44.9495\n",
            "Epoch: 12, Loss: 39.9570\n",
            "Epoch: 13, Loss: 34.8350\n",
            "Epoch: 14, Loss: 30.6156\n",
            "Epoch: 15, Loss: 26.8648\n",
            "Epoch: 16, Loss: 23.2277\n",
            "Epoch: 17, Loss: 19.8709\n",
            "Epoch: 18, Loss: 17.2249\n",
            "Epoch: 19, Loss: 14.8629\n",
            "Epoch: 20, Loss: 12.8039\n",
            "Epoch: 21, Loss: 11.2506\n",
            "Epoch: 22, Loss: 9.8088\n",
            "Epoch: 23, Loss: 8.7131\n",
            "Epoch: 24, Loss: 7.6180\n",
            "Epoch: 25, Loss: 6.7422\n",
            "Epoch: 26, Loss: 5.9654\n",
            "Epoch: 27, Loss: 5.4120\n",
            "Epoch: 28, Loss: 4.8784\n",
            "Epoch: 29, Loss: 4.4256\n",
            "Epoch: 30, Loss: 4.0264\n",
            "Epoch: 31, Loss: 3.7100\n",
            "Epoch: 32, Loss: 3.4135\n",
            "Epoch: 33, Loss: 3.1358\n",
            "Epoch: 34, Loss: 2.9391\n",
            "Epoch: 35, Loss: 2.7126\n",
            "Epoch: 36, Loss: 2.5098\n",
            "Epoch: 37, Loss: 2.3477\n",
            "Epoch: 38, Loss: 2.1994\n",
            "Epoch: 39, Loss: 2.0711\n",
            "Epoch: 40, Loss: 1.9393\n",
            "Epoch: 41, Loss: 1.8205\n",
            "Epoch: 42, Loss: 1.7301\n",
            "Epoch: 43, Loss: 1.6341\n",
            "Epoch: 44, Loss: 1.5559\n",
            "Epoch: 45, Loss: 1.4753\n",
            "Epoch: 46, Loss: 1.4079\n",
            "Epoch: 47, Loss: 1.3475\n",
            "Epoch: 48, Loss: 1.2798\n",
            "Epoch: 49, Loss: 1.2231\n",
            "Epoch: 50, Loss: 1.1617\n"
          ]
        }
      ]
    },
    {
      "cell_type": "code",
      "source": [
        "# prediction\n",
        "\n",
        "def prediction(model, vocab, text):\n",
        "\n",
        "  # tokenize\n",
        "  tokenized_text = word_tokenize(text.lower())\n",
        "\n",
        "  # text -> numerical indices\n",
        "  numerical_text = text_to_indices(tokenized_text, vocab)\n",
        "\n",
        "  # padding\n",
        "  padded_text = torch.tensor([0] * (61 - len(numerical_text)) + numerical_text, dtype=torch.long).unsqueeze(0)\n",
        "\n",
        "  # send to model\n",
        "  output = model(padded_text)\n",
        "\n",
        "  # predicted index\n",
        "  value, index = torch.max(output, dim=1)\n",
        "\n",
        "  # merge with text\n",
        "  return text + \" \" + list(vocab.keys())[index]"
      ],
      "metadata": {
        "id": "5-SYXW7YRlz7"
      },
      "execution_count": null,
      "outputs": []
    },
    {
      "cell_type": "code",
      "source": [
        "prediction(model, vocab, \"Vicky, Rudra and Bittu play \")"
      ],
      "metadata": {
        "colab": {
          "base_uri": "https://localhost:8080/",
          "height": 35
        },
        "id": "NiXjH7paRpiX",
        "outputId": "2fc88572-5259-425b-d51f-12f8c0c494f4"
      },
      "execution_count": null,
      "outputs": [
        {
          "output_type": "execute_result",
          "data": {
            "text/plain": [
              "'Vicky, Rudra and Bittu play  the'"
            ],
            "application/vnd.google.colaboratory.intrinsic+json": {
              "type": "string"
            }
          },
          "metadata": {},
          "execution_count": 34
        }
      ]
    },
    {
      "cell_type": "code",
      "source": [
        "import time\n",
        "\n",
        "num_tokens = 10\n",
        "input_text = \"Sarkata attacks\"\n",
        "\n",
        "for i in range(num_tokens):\n",
        "  output_text = prediction(model, vocab, input_text)\n",
        "  print(output_text)\n",
        "  input_text = output_text\n",
        "  time.sleep(0.5)"
      ],
      "metadata": {
        "colab": {
          "base_uri": "https://localhost:8080/"
        },
        "id": "saveEztRRreg",
        "outputId": "de85d3a6-db34-46f8-e10b-0543a369894e"
      },
      "execution_count": null,
      "outputs": [
        {
          "output_type": "stream",
          "name": "stdout",
          "text": [
            "Sarkata attacks to\n",
            "Sarkata attacks to rescue\n",
            "Sarkata attacks to rescue the\n",
            "Sarkata attacks to rescue the town\n",
            "Sarkata attacks to rescue the town ,\n",
            "Sarkata attacks to rescue the town , the\n",
            "Sarkata attacks to rescue the town , the group\n",
            "Sarkata attacks to rescue the town , the group traces\n",
            "Sarkata attacks to rescue the town , the group traces the\n",
            "Sarkata attacks to rescue the town , the group traces the writer\n"
          ]
        }
      ]
    },
    {
      "cell_type": "code",
      "source": [
        "dataloader1 = DataLoader(dataset, batch_size=32, shuffle=False)"
      ],
      "metadata": {
        "id": "F2HPQUNdRtGD"
      },
      "execution_count": null,
      "outputs": []
    },
    {
      "cell_type": "code",
      "source": [
        "# Function to calculate accuracy\n",
        "def calculate_accuracy(model, dataloader, device):\n",
        "    model.eval()  # Set the model to evaluation mode\n",
        "    correct = 0\n",
        "    total = 0\n",
        "\n",
        "    with torch.no_grad():  # No need to compute gradients\n",
        "        for batch_x, batch_y in dataloader1:\n",
        "            batch_x, batch_y = batch_x.to(device), batch_y.to(device)\n",
        "\n",
        "            # Get model predictions\n",
        "            outputs = model(batch_x)\n",
        "\n",
        "            # Get the predicted word indices\n",
        "            _, predicted = torch.max(outputs, dim=1)\n",
        "\n",
        "            # Compare with actual labels\n",
        "            correct += (predicted == batch_y).sum().item()\n",
        "            total += batch_y.size(0)\n",
        "\n",
        "    accuracy = correct / total * 100\n",
        "    return accuracy\n",
        "\n",
        "# Compute accuracy\n",
        "accuracy = calculate_accuracy(model, dataloader, device)\n",
        "print(f\"Model Accuracy: {accuracy:.2f}%\")"
      ],
      "metadata": {
        "colab": {
          "base_uri": "https://localhost:8080/"
        },
        "id": "lNyftO_NRvPN",
        "outputId": "12ad72c8-4409-4a11-a8ef-4edfb456a8ee"
      },
      "execution_count": null,
      "outputs": [
        {
          "output_type": "stream",
          "name": "stdout",
          "text": [
            "Model Accuracy: 100.00%\n"
          ]
        }
      ]
    },
    {
      "cell_type": "code",
      "source": [],
      "metadata": {
        "id": "5-t1YekFRyAC"
      },
      "execution_count": null,
      "outputs": []
    }
  ]
}